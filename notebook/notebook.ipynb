{
 "cells": [
  {
   "cell_type": "code",
   "execution_count": 1,
   "metadata": {},
   "outputs": [
    {
     "data": {
      "text/plain": [
       "True"
      ]
     },
     "execution_count": 1,
     "metadata": {},
     "output_type": "execute_result"
    }
   ],
   "source": [
    "from src.message import HumanMessage,SystemMessage\n",
    "from src.inference.gemini import ChatGemini\n",
    "from src.inference.mistral import ChatMistral\n",
    "from src.inference.groq import ChatGroq\n",
    "from src.llm_switcher import LLMSwitcher\n",
    "from dotenv import load_dotenv\n",
    "import os\n",
    "\n",
    "load_dotenv()"
   ]
  },
  {
   "cell_type": "code",
   "execution_count": 2,
   "metadata": {},
   "outputs": [
    {
     "name": "stdout",
     "output_type": "stream",
     "text": [
      "Error with ChatGemini: Method doesn't allow unregistered callers (callers without established identity). Please use API Key or other form of API consumer identity to call this API.\n",
      "I'm just a computer program, so I don't have feelings or emotions like humans do. However, I'm functioning properly and ready to help you with any questions or tasks you may have. How can I assist you today?\n"
     ]
    }
   ],
   "source": [
    "\n",
    "llms=[\n",
    "    ChatGemini(model='gemini-1.5-pro'),\n",
    "    ChatGroq(model='llama-3.1-70b-versatile',api_key=os.getenv('GROQ_API_KEY')),\n",
    "    ChatMistral(model='open-codestral-mamba',api_key=os.getenv('MISTRAL_API_KEY'))\n",
    "]\n",
    "\n",
    "llm_switcher = LLMSwitcher(llms=llms,max_retries=2)\n",
    "llm_response=llm_switcher.invoke(messages=[SystemMessage('Helpful AI assistant'),HumanMessage('How are you?')])\n",
    "print(llm_response.content)"
   ]
  }
 ],
 "metadata": {
  "kernelspec": {
   "display_name": "Python 3",
   "language": "python",
   "name": "python3"
  },
  "language_info": {
   "codemirror_mode": {
    "name": "ipython",
    "version": 3
   },
   "file_extension": ".py",
   "mimetype": "text/x-python",
   "name": "python",
   "nbconvert_exporter": "python",
   "pygments_lexer": "ipython3",
   "version": "3.12.7"
  }
 },
 "nbformat": 4,
 "nbformat_minor": 2
}
